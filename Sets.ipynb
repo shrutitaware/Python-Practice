{
  "nbformat": 4,
  "nbformat_minor": 0,
  "metadata": {
    "colab": {
      "name": "Python_practice_Sets_11_22.ipynb",
      "provenance": [],
      "collapsed_sections": []
    },
    "kernelspec": {
      "name": "python3",
      "display_name": "Python 3"
    },
    "language_info": {
      "name": "python"
    }
  },
  "cells": [
    {
      "cell_type": "code",
      "metadata": {
        "colab": {
          "base_uri": "https://localhost:8080/"
        },
        "id": "Nd53KqZqasDp",
        "outputId": "bb9119a7-cd73-44a3-b20f-e84abb56135a"
      },
      "source": [
        "# Create a set\n",
        "\n",
        "set1 = {}\n",
        "print(set1)"
      ],
      "execution_count": 1,
      "outputs": [
        {
          "output_type": "stream",
          "name": "stdout",
          "text": [
            "{}\n"
          ]
        }
      ]
    },
    {
      "cell_type": "code",
      "metadata": {
        "colab": {
          "base_uri": "https://localhost:8080/"
        },
        "id": "xCj0D_--kgbA",
        "outputId": "7fa5f547-a88e-4224-c05d-81be23726aba"
      },
      "source": [
        "set2 = {'UK', 'USA', 'GERMANY'}\n",
        "print(set2)"
      ],
      "execution_count": 3,
      "outputs": [
        {
          "output_type": "stream",
          "name": "stdout",
          "text": [
            "{'GERMANY', 'USA', 'UK'}\n"
          ]
        }
      ]
    },
    {
      "cell_type": "code",
      "metadata": {
        "colab": {
          "base_uri": "https://localhost:8080/"
        },
        "id": "ZJSBqjG-knbt",
        "outputId": "8a452b59-1115-4db4-da8c-9a662ada968d"
      },
      "source": [
        "set3 = {\"Hello World\"}\n",
        "print(set3)"
      ],
      "execution_count": 4,
      "outputs": [
        {
          "output_type": "stream",
          "name": "stdout",
          "text": [
            "{'Hello World'}\n"
          ]
        }
      ]
    },
    {
      "cell_type": "code",
      "metadata": {
        "colab": {
          "base_uri": "https://localhost:8080/"
        },
        "id": "1jAtYxedk_pu",
        "outputId": "da7d1c8e-ae61-47b6-dd91-2008f6085f31"
      },
      "source": [
        "set4 = set(\"Hello World!\")\n",
        "print(set4)"
      ],
      "execution_count": 5,
      "outputs": [
        {
          "output_type": "stream",
          "name": "stdout",
          "text": [
            "{'e', 'd', ' ', 'H', 'l', 'r', 'W', '!', 'o'}\n"
          ]
        }
      ]
    },
    {
      "cell_type": "code",
      "metadata": {
        "colab": {
          "base_uri": "https://localhost:8080/"
        },
        "id": "p01wJQGdlJJv",
        "outputId": "be50c148-64a0-4e6d-e3a2-e4f318c966c0"
      },
      "source": [
        "# Count even and odd numbers in a set\n",
        "def myfunction(myset):\n",
        "  even_count = 0\n",
        "  odd_count = 0\n",
        "\n",
        "  for val in myset:                         # unordered -> cannot be accessed by index\n",
        "    if (val % 2 == 0):\n",
        "      even_count = even_count + 1\n",
        "    else:\n",
        "      odd_count = odd_count + 1\n",
        "\n",
        "  print(\"Even : \", even_count)\n",
        "  print(\"Odd : \", odd_count)\n",
        "\n",
        "myset = {2,3,4,5,6,7,8,9}\n",
        "myfunction(myset)"
      ],
      "execution_count": 10,
      "outputs": [
        {
          "output_type": "stream",
          "name": "stdout",
          "text": [
            "Even :  4\n",
            "Odd :  4\n"
          ]
        }
      ]
    },
    {
      "cell_type": "code",
      "metadata": {
        "colab": {
          "base_uri": "https://localhost:8080/"
        },
        "id": "XGnlvwi1mc_W",
        "outputId": "973537f2-07a1-4235-f943-fd5b1c1bd557"
      },
      "source": [
        "# Count positive and negative numbers in a set\n",
        "\n",
        "def myfunction(myset):\n",
        "  pos_count = 0\n",
        "  neg_count = 0\n",
        "\n",
        "  for val in myset:\n",
        "    if val >= 0:\n",
        "      pos_count = pos_count + 1\n",
        "    else:\n",
        "      neg_count = neg_count + 1\n",
        "    \n",
        "  print(\"Positive count: \", pos_count)\n",
        "  print(\"Negative count: \", neg_count)\n",
        "\n",
        "myset = {1, 0, -3, -5, -8}\n",
        "myfunction(myset)"
      ],
      "execution_count": 12,
      "outputs": [
        {
          "output_type": "stream",
          "name": "stdout",
          "text": [
            "Positive count:  2\n",
            "Negative count:  3\n"
          ]
        }
      ]
    },
    {
      "cell_type": "code",
      "metadata": {
        "colab": {
          "base_uri": "https://localhost:8080/"
        },
        "id": "ZPep0WaSnyyi",
        "outputId": "bdb28f31-a5b3-4657-9884-90908e09f117"
      },
      "source": [
        "# Iterate set items\n",
        "\n",
        "def myfunction(myset):\n",
        "  for val in myset:\n",
        "    print(val)\n",
        "\n",
        "myset = {\"Hello\", \"World\", \"This\", \"is\", \"a\", \"set\"}   # set is unordered\n",
        "myfunction(myset)"
      ],
      "execution_count": 13,
      "outputs": [
        {
          "output_type": "stream",
          "name": "stdout",
          "text": [
            "is\n",
            "a\n",
            "This\n",
            "set\n",
            "World\n",
            "Hello\n"
          ]
        }
      ]
    },
    {
      "cell_type": "code",
      "metadata": {
        "colab": {
          "base_uri": "https://localhost:8080/"
        },
        "cellView": "code",
        "id": "VkkLqjRioqZd",
        "outputId": "5456aeb9-6d5b-4150-ab53-d5b1435f3f53"
      },
      "source": [
        "\n",
        "# Find largest item in a set\n",
        "\n",
        "def myfunction(myset):\n",
        "  largest = 0\n",
        "  for val in myset:\n",
        "    if val > largest:\n",
        "      largest = val\n",
        "  return largest\n",
        "\n",
        "myset = {33, 22, 145, 200, 4, 5}\n",
        "myfunction(myset)\n",
        "\n",
        "#print(max(myset))"
      ],
      "execution_count": 43,
      "outputs": [
        {
          "output_type": "execute_result",
          "data": {
            "text/plain": [
              "200"
            ]
          },
          "metadata": {},
          "execution_count": 43
        }
      ]
    },
    {
      "cell_type": "code",
      "metadata": {
        "colab": {
          "base_uri": "https://localhost:8080/"
        },
        "id": "4a__6rz7oyyR",
        "outputId": "b0477570-2e28-4ea5-b994-4dcc2b1511c6"
      },
      "source": [
        "# Length of a set\n",
        "\n",
        "def myfunction(myset):\n",
        "  return len(myset)\n",
        "\n",
        "myset ={1, 2.15, \"Apple\", (2,5,8,0), 45, \"Cherry\"}\n",
        "myfunction(myset)"
      ],
      "execution_count": 16,
      "outputs": [
        {
          "output_type": "execute_result",
          "data": {
            "text/plain": [
              "6"
            ]
          },
          "metadata": {},
          "execution_count": 16
        }
      ]
    },
    {
      "cell_type": "code",
      "metadata": {
        "colab": {
          "base_uri": "https://localhost:8080/"
        },
        "id": "gLnHVeASpAhB",
        "outputId": "f359e164-89d0-4d56-be07-b7da8de21bcb"
      },
      "source": [
        "# Even numbers in a set\n",
        "\n",
        "def myfunction(myset):\n",
        "  for val in myset:\n",
        "    if val % 2 == 0:\n",
        "      print(val)\n",
        "\n",
        "myset = {20, 21, 22, 23, 24, 25}\n",
        "myfunction(myset)"
      ],
      "execution_count": 19,
      "outputs": [
        {
          "output_type": "stream",
          "name": "stdout",
          "text": [
            "20\n",
            "22\n",
            "24\n"
          ]
        }
      ]
    },
    {
      "cell_type": "code",
      "metadata": {
        "colab": {
          "base_uri": "https://localhost:8080/"
        },
        "id": "1zBPK_CAq5S0",
        "outputId": "fbf488bd-b121-49c0-91ef-ebc3e885a700"
      },
      "source": [
        "# Negative numbers in a set\n",
        "\n",
        "def myfunction(myset):\n",
        "  for val in myset:\n",
        "    if val < 0:\n",
        "      print(val)\n",
        "\n",
        "myset = {1,2,3,-5,-6,-8}\n",
        "\n",
        "print(\"Negative numbers are : \")\n",
        "myfunction(myset)"
      ],
      "execution_count": 20,
      "outputs": [
        {
          "output_type": "stream",
          "name": "stdout",
          "text": [
            "Negative numbers are : \n",
            "-8\n",
            "-6\n",
            "-5\n"
          ]
        }
      ]
    },
    {
      "cell_type": "code",
      "metadata": {
        "colab": {
          "base_uri": "https://localhost:8080/"
        },
        "id": "Pa9vedHQsLcD",
        "outputId": "1a06afc0-e083-4233-964b-58d524365e28"
      },
      "source": [
        "# Odd numbers in a set\n",
        "\n",
        "def myfunction(myset):\n",
        "  for val in myset:\n",
        "    if val%2 != 0:\n",
        "      print(val)\n",
        "\n",
        "myset = {20,21,22,23,24,25,25}   # duplicates not allowed-> return 25 once\n",
        "\n",
        "print(\"Odd numbers are : \")\n",
        "myfunction(myset)"
      ],
      "execution_count": 23,
      "outputs": [
        {
          "output_type": "stream",
          "name": "stdout",
          "text": [
            "Odd numbers are : \n",
            "21\n",
            "23\n",
            "25\n"
          ]
        }
      ]
    },
    {
      "cell_type": "code",
      "metadata": {
        "colab": {
          "base_uri": "https://localhost:8080/"
        },
        "id": "hWxj7-axseqV",
        "outputId": "7ac9f04e-a6a9-461e-87b2-db9b69a2c50b"
      },
      "source": [
        "# Positive numbers in a set\n",
        "\n",
        "def myfunction(myset):"
      ],
      "execution_count": 22,
      "outputs": [
        {
          "output_type": "stream",
          "name": "stdout",
          "text": [
            "{20, 21, 22, 23, 24, 25}\n"
          ]
        }
      ]
    },
    {
      "cell_type": "code",
      "metadata": {
        "colab": {
          "base_uri": "https://localhost:8080/"
        },
        "id": "rrUQ2b9usjEs",
        "outputId": "04b2b053-102c-4366-b68d-5402c8a13698"
      },
      "source": [
        "# Sum of even and odd numbers from a set\n",
        "\n",
        "def myfunction(myset):\n",
        "  even_sum = odd_sum = 0\n",
        "  for val in myset:\n",
        "    if val % 2 == 0:\n",
        "      even_sum = even_sum + val\n",
        "    else:\n",
        "      odd_sum = odd_sum + val\n",
        "\n",
        "  print(\"Even sum is : \", even_sum)\n",
        "  print(\"Odd sum is : \", odd_sum)\n",
        "\n",
        "myset = {1,2,3,4,5,0}\n",
        "myfunction(myset)"
      ],
      "execution_count": 24,
      "outputs": [
        {
          "output_type": "stream",
          "name": "stdout",
          "text": [
            "Even sum is :  6\n",
            "Odd sum is :  9\n"
          ]
        }
      ]
    },
    {
      "cell_type": "code",
      "metadata": {
        "colab": {
          "base_uri": "https://localhost:8080/"
        },
        "id": "tlS7H6BTtg1X",
        "outputId": "4f78d8fc-ed31-4744-cbfa-ff0b9554be14"
      },
      "source": [
        "# find smallest number in a set\n",
        "\n",
        "def myfunction(myset):\n",
        "  return min(myset)\n",
        "\n",
        "myset= {22,5,6,3,7,8}\n",
        "myfunction(myset)"
      ],
      "execution_count": 44,
      "outputs": [
        {
          "output_type": "execute_result",
          "data": {
            "text/plain": [
              "3"
            ]
          },
          "metadata": {},
          "execution_count": 44
        }
      ]
    },
    {
      "cell_type": "code",
      "metadata": {
        "id": "hxEp8TzEt5JV"
      },
      "source": [
        ""
      ],
      "execution_count": null,
      "outputs": []
    }
  ]
}